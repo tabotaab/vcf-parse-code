{
 "cells": [
  {
   "cell_type": "code",
   "execution_count": 1,
   "metadata": {},
   "outputs": [],
   "source": [
    "import vcf\n",
    "import numpy as np\n",
    "import pandas as pd\n",
    "from pyVEP import VEP"
   ]
  },
  {
   "cell_type": "code",
   "execution_count": 2,
   "metadata": {},
   "outputs": [],
   "source": [
    "info_type = {'del': \"deletion\",\n",
    "              'ins': \"insertion\",\n",
    "              'complex': \"complex\",\n",
    "              'snp' : \"Single Nucleotide Polymorphism\",\n",
    "              'mnp': \"Multi Nucleotide Polymorphism\",\n",
    "              }\n",
    "variation_type = {'indel' : \"INDEL\",\n",
    "              'snp' : \"SNP\",\n",
    "              }\n",
    "variation_subtype = {'del': \"deletion\",\n",
    "              'ins': \"insertion\",\n",
    "              'ts': \"transition\",\n",
    "              'tv': \"transversion\",\n",
    "              'unknown': \"unknown\"}\n"
   ]
  },
  {
   "cell_type": "code",
   "execution_count": 3,
   "metadata": {},
   "outputs": [],
   "source": [
    "def parse_vcf_record(record):\n",
    "    ref_reads, variant_reads, total_reads = record.INFO['RO'], record.INFO['AO'], record.INFO['DP']\n",
    "                \n",
    "    var_per = []\n",
    "    for var_val in variant_reads:\n",
    "        var_per.append(round((var_val/total_reads)*100,2))\n",
    "                    \n",
    "    ref_per = round((ref_reads/total_reads)*100,2)\n",
    "                \n",
    "    info_types = []\n",
    "    for infotype in record.INFO['TYPE']:\n",
    "        info_types.append(info_type[infotype])\n",
    "                    \n",
    "    tmp = (record.CHROM, record.POS, record.REF, str(record.ALT)[1:-1],\n",
    "           variation_type[record.var_type],str(info_types)[1:-1],variation_subtype[record.var_subtype],\n",
    "           str(variant_reads)[1:-1], total_reads, str(var_per)+\"%|\"+str(ref_per)+\"%\",)\n",
    "              \n",
    "    return(tmp) "
   ]
  },
  {
   "cell_type": "code",
   "execution_count": 4,
   "metadata": {},
   "outputs": [],
   "source": [
    "def variant_effect(record): \n",
    "    \n",
    "    var_effect = []\n",
    "    \n",
    "    for eachalt in record.ALT:\n",
    "        mystr = str(record.CHROM)+\" \"+str(record.POS)+\" . \"+str(record.REF)+\" \"+str(eachalt)+\" .  .  .\"\n",
    "        \n",
    "        if len(record.REF)>1 and len(eachalt)>1:\n",
    "            var_effect.append(\"complex\")\n",
    "        else:\n",
    "            r = VEP(mystr, 'grch37')\n",
    "            var_effect.append(r[0]['most_severe_consequence'])\n",
    "           \n",
    "    return((str(var_effect)[1:-1],))"
   ]
  },
  {
   "cell_type": "code",
   "execution_count": 9,
   "metadata": {},
   "outputs": [],
   "source": [
    "def main(snvs):\n",
    "    \n",
    "    vcf_reader = vcf.Reader(open(snvs,'r'))\n",
    "    snv_dtype = [('chromosome','S50'),('position',int),('reference','S50'),('variant','S50'),\n",
    "                 ('var_type','S50'),('var_infotype','S50'),('var_subtype','S50'),\n",
    "                 ('var_count','S50'),('read_depth',int),('var%|ref%','S50'),\n",
    "                 ('var_effect','S50')]\n",
    "    \n",
    "    snv_df = np.empty([0,11],dtype=snv_dtype)\n",
    "    \n",
    "    for record in vcf_reader:\n",
    "        try:\n",
    "            if record.var_type == 'indel' and record.var_subtype == 'unknown' :                \n",
    "                vcf_out = parse_vcf_record(record)\n",
    "                eff_out = variant_effect(record)\n",
    "                snv_df = np.append(snv_df,np.array(vcf_out+eff_out, dtype=snv_dtype))\n",
    "                                         \n",
    "        except KeyError:\n",
    "            print('WARNING: missing count field(s) in record %s:%d' % (record.CHROM, record.POS))\n",
    "\n",
    "    return pd.DataFrame(snv_df) "
   ]
  },
  {
   "cell_type": "code",
   "execution_count": 8,
   "metadata": {},
   "outputs": [
    {
     "name": "stdout",
     "output_type": "stream",
     "text": [
      "  chromosome  position       reference                         variant  \\\n",
      "0          1   1650797           ATTTT                           GTTTC   \n",
      "1          1   1654129       TAAAAAAAT                        TAAAAAAT   \n",
      "2          1   3350212    CTGTGTGTGTGT                      CTGTGTGTGT   \n",
      "3          1   6184728   TGGGGGGGGGGGA                  TGGGGGGGGGGGGA   \n",
      "4          1   6209058  GTCCTCCTCCTCCT                     GTCCTCCTCCT   \n",
      "5          1   6219477  TTTCTTCTTCTTCT                     TTTCTTCTTCT   \n",
      "6          1   6228297         GAAAAAG                          GAAAAG   \n",
      "7          1   6475586              TC                              GA   \n",
      "8          1   7811328      CAAAAAAAAT                       CAAAAAAAT   \n",
      "9          1  10292359  CATATATATATATA  CATATATATATA, CATATATATATATATA   \n",
      "\n",
      "  var_type                     var_infotype var_subtype var_count  read_depth  \\\n",
      "0    INDEL                        'complex'   insertion        74        2636   \n",
      "1    INDEL                       'deletion'    deletion        80        2198   \n",
      "2    INDEL                       'deletion'    deletion        30        1924   \n",
      "3    INDEL                      'insertion'   insertion        22         116   \n",
      "4    INDEL                       'deletion'    deletion        42        2504   \n",
      "5    INDEL                       'deletion'    deletion        28        4740   \n",
      "6    INDEL                       'deletion'    deletion        24        4340   \n",
      "7    INDEL  'Multi Nucleotide Polymorphism'   insertion       492        1738   \n",
      "8    INDEL                       'deletion'    deletion        22        2238   \n",
      "9    INDEL          'deletion', 'insertion'     unknown    70, 30        2232   \n",
      "\n",
      "          var%|ref%            var_effect  \n",
      "0       [0.0]%|0.0%             'complex'  \n",
      "1       [0.0]%|0.0%             'complex'  \n",
      "2       [0.0]%|0.0%             'complex'  \n",
      "3       [0.0]%|0.0%             'complex'  \n",
      "4       [0.0]%|0.0%             'complex'  \n",
      "5       [0.0]%|0.0%             'complex'  \n",
      "6       [0.0]%|0.0%             'complex'  \n",
      "7       [0.0]%|0.0%             'complex'  \n",
      "8       [0.0]%|0.0%             'complex'  \n",
      "9  [0.0, 0.0]%|0.0%  'complex', 'complex'  \n"
     ]
    }
   ],
   "source": [
    "output = main('./Challenge_data.vcf')\n",
    "print(output.iloc[0:10,:])"
   ]
  },
  {
   "cell_type": "code",
   "execution_count": null,
   "metadata": {},
   "outputs": [],
   "source": []
  }
 ],
 "metadata": {
  "kernelspec": {
   "display_name": "Python 2",
   "language": "python",
   "name": "python2"
  },
  "language_info": {
   "codemirror_mode": {
    "name": "ipython",
    "version": 2
   },
   "file_extension": ".py",
   "mimetype": "text/x-python",
   "name": "python",
   "nbconvert_exporter": "python",
   "pygments_lexer": "ipython2",
   "version": "2.7.12"
  }
 },
 "nbformat": 4,
 "nbformat_minor": 2
}
