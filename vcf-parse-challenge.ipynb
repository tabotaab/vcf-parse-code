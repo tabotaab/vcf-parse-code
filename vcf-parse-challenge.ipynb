{
 "cells": [
  {
   "cell_type": "markdown",
   "metadata": {},
   "source": [
    "# VCF parse code\n",
    "\n",
    "## Introduction\n",
    "\n",
    "Output a table annotating each variant in the VCF input file. Each variant must be annotated with the following pieces of information:\n",
    "\n",
    "1. Type of variation (Substitution, Insertion, Silent, Intergenic, etc.) If there are multiple possibilities, annotate with the most deleterious possibility.\n",
    "2. Depth of sequence coverage at the site of variation.\n",
    "3. Number of reads supporting the variant.\n",
    "4. Percentage of reads supporting the variant versus those supporting reference reads.\n",
    "5. Allele frequency of variant from Broad Institute ExAC Project API (API documentation is available here: http://exac.hms.harvard.edu/)\n",
    "6. Additional optional information from ExAC that you feel might be relevant.\n",
    "\n",
    "## Author and Development\n",
    "\n",
    "* [Sara Movahedi](https://github.com/tabotaab) (contact: <sara.movahedi@gmail.com>)\n"
   ]
  },
  {
   "cell_type": "markdown",
   "metadata": {},
   "source": [
    "## modules/libraries\n",
    "This module requires the following modules/libraries (Python 2.7.12):\n",
    "\n",
    "* numpy\n",
    "* pandas\n",
    "* requests\n",
    "* json\n",
    "* [vcf](https://pyvcf.readthedocs.io/en/latest/)\n",
    "* [pyVEP](https://github.com/kantale/pyVEP)\n"
   ]
  },
  {
   "cell_type": "code",
   "execution_count": 3,
   "metadata": {},
   "outputs": [],
   "source": [
    "import vcf\n",
    "import numpy as np\n",
    "import pandas as pd\n",
    "from pyVEP import VEP\n",
    "import requests\n",
    "import json"
   ]
  },
  {
   "cell_type": "markdown",
   "metadata": {},
   "source": [
    "## Default variables"
   ]
  },
  {
   "cell_type": "code",
   "execution_count": 5,
   "metadata": {},
   "outputs": [],
   "source": [
    "input_file = './Challenge_data.vcf'\n",
    "output_file = './vcf-parse-output.csv'"
   ]
  },
  {
   "cell_type": "code",
   "execution_count": 6,
   "metadata": {},
   "outputs": [],
   "source": [
    "info_type = {'del': \"deletion\",\n",
    "              'ins': \"insertion\",\n",
    "              'complex': \"complex\",\n",
    "              'snp' : \"Single Nucleotide Polymorphism\",\n",
    "              'mnp': \"Multi Nucleotide Polymorphism\",\n",
    "              }\n",
    "variation_type = {'indel' : \"INDEL\",\n",
    "              'snp' : \"SNP\",\n",
    "              }\n",
    "variation_subtype = {'del': \"deletion\",\n",
    "              'ins': \"insertion\",\n",
    "              'ts': \"transition\",\n",
    "              'tv': \"transversion\",\n",
    "              'unknown': \"unknown\"}"
   ]
  },
  {
   "cell_type": "markdown",
   "metadata": {},
   "source": [
    "## parse_vcf_record\n",
    "\n",
    "A function to parse input vcf file records. \n",
    "\n",
    "**input:**\n",
    "* a vcf record = one line\n",
    "\n",
    "**output:**\n",
    "* CHROM chromosome\n",
    "* POS position\n",
    "* REF reference base(s)\n",
    "* ALT comma separated list of alternate non-reference alleles called on at least one of the samples\n",
    "* var_type the type of variant (SNP or INDEL)\n",
    "* INFO TYPE comma separated list of variant types of alternate non-reference alleles\n",
    "* var_subtype variant subtype\n",
    "* AO comma separated list of alternate allele observation count\n",
    "* DP combined depth across samples\n",
    "* Percentage of reads supporting the variant versus those supporting reference reads"
   ]
  },
  {
   "cell_type": "code",
   "execution_count": 7,
   "metadata": {},
   "outputs": [],
   "source": [
    "def parse_vcf_record(record):\n",
    "    ref_reads, variant_reads, total_reads = record.INFO['RO'], record.INFO['AO'], record.INFO['DP']\n",
    "                \n",
    "    var_per = []\n",
    "    for var_val in variant_reads:\n",
    "        var_per.append(round((float(var_val)/float(total_reads))*100.0,2))\n",
    "                    \n",
    "    ref_per = round((float(ref_reads)/float(total_reads))*100.0,2)\n",
    "                \n",
    "    info_types = []\n",
    "    for infotype in record.INFO['TYPE']:\n",
    "        info_types.append(info_type[infotype])\n",
    "                    \n",
    "    tmp = (record.CHROM, record.POS, record.REF, str(record.ALT)[1:-1],\n",
    "           variation_type[record.var_type],str(info_types)[1:-1],variation_subtype[record.var_subtype],\n",
    "           str(variant_reads)[1:-1], total_reads, str(var_per)+\"%|\"+str(ref_per)+\"%\",)\n",
    "                  \n",
    "    return(tmp) "
   ]
  },
  {
   "cell_type": "markdown",
   "metadata": {},
   "source": [
    "## variant_effect\n",
    "\n",
    "Here we use pyVEP to predict Variant Effect.\n",
    "\n",
    "**input:**\n",
    "* a vcf record = one line\n",
    "\n",
    "**output:**\n",
    "* comma separated list of 'most severe consequence' of alternate non-reference alleles\n"
   ]
  },
  {
   "cell_type": "code",
   "execution_count": 8,
   "metadata": {},
   "outputs": [],
   "source": [
    "def variant_effect(record): \n",
    "    \n",
    "    var_effect = []\n",
    "    \n",
    "    for eachalt in record.ALT:\n",
    "        mystr = str(record.CHROM)+\" \"+str(record.POS)+\" . \"+str(record.REF)+\" \"+str(eachalt)+\" .  .  .\"\n",
    "        \n",
    "        if len(record.REF)>1 and len(eachalt)>1:\n",
    "            var_effect.append(\"complex\")\n",
    "        else:\n",
    "            r = VEP(mystr, 'grch38')\n",
    "            var_effect.append(str(r[0]['most_severe_consequence']))\n",
    "           \n",
    "    return((str(var_effect)[1:-1],))"
   ]
  },
  {
   "cell_type": "markdown",
   "metadata": {},
   "source": [
    "## ExAC_info\n",
    "\n",
    "Here we use Broad Institute ExAC Project API to gain more information over each allele.\n",
    "\n",
    "**input:**\n",
    "* a vcf record = one line\n",
    "\n",
    "**output:**\n",
    "* allele_count \n",
    "* allele_num \n",
    "* allele_freq \n",
    "* num_homozygotes \n",
    "* site_quality \n",
    "* filter \n",
    "* major_consequence\n"
   ]
  },
  {
   "cell_type": "code",
   "execution_count": 9,
   "metadata": {},
   "outputs": [],
   "source": [
    "def ExAC_info(record):\n",
    "    chrom,pos,ref,alt = record.CHROM, record.POS, record.REF, record.ALT\n",
    "    tmp = (\"NA\",\"NA\",\"NA\",\"NA\",\"NA\",\"NA\",\"NA\")\n",
    "    \n",
    "    if len(ref)==1 and len(alt)==1:\n",
    "        exac_url = \"http://exac.hms.harvard.edu/rest/variant/variant/\"+chrom+'-'+str(pos)+'-'+ref+'-'+str(alt[0])\n",
    "        exac_response = requests.get(exac_url)\n",
    "        \n",
    "        if (exac_response.status_code == 200) :\n",
    "            exac_response_json = exac_response.json()\n",
    "    \n",
    "            allele_count = exac_response_json[\"allele_count\"]\n",
    "            allele_num = exac_response_json[\"allele_num\"]\n",
    "            allele_freq = exac_response_json[\"allele_freq\"]\n",
    "            num_homozygotes = exac_response_json[\"hom_count\"]\n",
    "            site_quality = exac_response_json[\"site_quality\"]\n",
    "            outFilter = exac_response_json[\"filter\"]\n",
    "    \n",
    "            major_consequence={}\n",
    "            vep_ann = exac_response_json[\"vep_annotations\"]   \n",
    "            for vep in vep_ann:\n",
    "                major_consequence[vep[\"HGVSc\"]]=vep[\"major_consequence\"]\n",
    "            \n",
    "            tmp = (allele_count,allele_num,allele_freq,num_homozygotes,site_quality,str(outFilter),str(json.dumps(major_consequence))[1:-1])\n",
    "        else:\n",
    "            raise ValueError(\"ERROR: ExAC response status_code should be 200, but it is \"+exac_response.status_code+\" !\")\n",
    "        \n",
    "    return(tmp)\n",
    "    "
   ]
  },
  {
   "cell_type": "markdown",
   "metadata": {},
   "source": [
    "## main function\n",
    "Here we read and parse the VCF input file line by line. Output results are written to a csv file. "
   ]
  },
  {
   "cell_type": "code",
   "execution_count": 10,
   "metadata": {},
   "outputs": [],
   "source": [
    "def main(vcf_file = input_file,out_file = output_file ):\n",
    "    \n",
    "    vcf_reader = vcf.Reader(open(vcf_file,'r'))\n",
    "\n",
    "    f = open(out_file,\"w+\")\n",
    "    f.write('chromosome'+'\\t'+'position'+'\\t'+'reference'+'\\t'+'variant'+'\\t'+'var_type'+'\\t'+'var_infotype'+'\\t'+\n",
    "            'var_subtype'+'\\t'+'var_count'+'\\t'+'read_depth'+'\\t'+'var%|ref%'+'\\t'+'var_effect'+'\\t'+\n",
    "            'ExAC_allele_count'+'\\t'+'ExAC_allele_num'+'\\t'+'ExAC_allele_freq'+'\\t'+'ExAC_homozygotes_num'+'\\t'+\n",
    "            'ExAC_site_quality'+'\\t'+'ExAC_filter'+'\\t'+'ExAC_HGVSc:major_consequence'+'\\n')\n",
    "    \n",
    "    for record in vcf_reader:\n",
    "        try:\n",
    "                vcf_out = parse_vcf_record(record) # VCF information\n",
    "                eff_out = variant_effect(record)   # Variant effect results\n",
    "                \n",
    "                try:\n",
    "                    ExAC_out = ExAC_info(record)   # ExAC API output\n",
    "                except KeyError:\n",
    "                    ExAC_out = (\"NA\",\"NA\",\"NA\",\"NA\",\"NA\",\"NA\",\"NA\")\n",
    "                \n",
    "                out_line = vcf_out+eff_out+ExAC_out\n",
    "                f.write('\\t'.join(str(i) for i in out_line)+'\\n')\n",
    "        except KeyError:\n",
    "            print('WARNING: missing count field(s) in record %s:%d' % (record.CHROM, record.POS))\n",
    "\n",
    "    f.close()\n",
    "    \n",
    "    return()"
   ]
  },
  {
   "cell_type": "code",
   "execution_count": null,
   "metadata": {},
   "outputs": [],
   "source": [
    "if __name__== \"__main__\":\n",
    "  main()"
   ]
  }
 ],
 "metadata": {
  "kernelspec": {
   "display_name": "Python 2",
   "language": "python",
   "name": "python2"
  },
  "language_info": {
   "codemirror_mode": {
    "name": "ipython",
    "version": 2
   },
   "file_extension": ".py",
   "mimetype": "text/x-python",
   "name": "python",
   "nbconvert_exporter": "python",
   "pygments_lexer": "ipython2",
   "version": "2.7.12"
  }
 },
 "nbformat": 4,
 "nbformat_minor": 2
}
