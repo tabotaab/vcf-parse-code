{
 "cells": [
  {
   "cell_type": "code",
   "execution_count": 1,
   "metadata": {},
   "outputs": [],
   "source": [
    "import vcf\n",
    "import numpy as np\n",
    "import pandas as pd\n",
    "from pyVEP import VEP\n",
    "import requests\n",
    "import json"
   ]
  },
  {
   "cell_type": "code",
   "execution_count": 2,
   "metadata": {},
   "outputs": [],
   "source": [
    "info_type = {'del': \"deletion\",\n",
    "              'ins': \"insertion\",\n",
    "              'complex': \"complex\",\n",
    "              'snp' : \"Single Nucleotide Polymorphism\",\n",
    "              'mnp': \"Multi Nucleotide Polymorphism\",\n",
    "              }\n",
    "variation_type = {'indel' : \"INDEL\",\n",
    "              'snp' : \"SNP\",\n",
    "              }\n",
    "variation_subtype = {'del': \"deletion\",\n",
    "              'ins': \"insertion\",\n",
    "              'ts': \"transition\",\n",
    "              'tv': \"transversion\",\n",
    "              'unknown': \"unknown\"}\n"
   ]
  },
  {
   "cell_type": "code",
   "execution_count": 3,
   "metadata": {},
   "outputs": [],
   "source": [
    "def parse_vcf_record(record):\n",
    "    ref_reads, variant_reads, total_reads = record.INFO['RO'], record.INFO['AO'], record.INFO['DP']\n",
    "                \n",
    "    var_per = []\n",
    "    for var_val in variant_reads:\n",
    "        var_per.append(round((float(var_val)/float(total_reads))*100.0,2))\n",
    "                    \n",
    "    ref_per = round((float(ref_reads)/float(total_reads))*100.0,2)\n",
    "                \n",
    "    info_types = []\n",
    "    for infotype in record.INFO['TYPE']:\n",
    "        info_types.append(info_type[infotype])\n",
    "                    \n",
    "    tmp = (record.CHROM, record.POS, record.REF, str(record.ALT)[1:-1],\n",
    "           variation_type[record.var_type],str(info_types)[1:-1],variation_subtype[record.var_subtype],\n",
    "           str(variant_reads)[1:-1], total_reads, str(var_per)+\"%|\"+str(ref_per)+\"%\",)\n",
    "                  \n",
    "    return(tmp) "
   ]
  },
  {
   "cell_type": "code",
   "execution_count": 4,
   "metadata": {},
   "outputs": [],
   "source": [
    "def variant_effect(record): \n",
    "    \n",
    "    var_effect = []\n",
    "    \n",
    "    for eachalt in record.ALT:\n",
    "        mystr = str(record.CHROM)+\" \"+str(record.POS)+\" . \"+str(record.REF)+\" \"+str(eachalt)+\" .  .  .\"\n",
    "        \n",
    "        if len(record.REF)>1 and len(eachalt)>1:\n",
    "            var_effect.append(\"complex\")\n",
    "        else:\n",
    "            r = VEP(mystr, 'grch38')\n",
    "            var_effect.append(str(r[0]['most_severe_consequence']))\n",
    "           \n",
    "    return((str(var_effect)[1:-1],))"
   ]
  },
  {
   "cell_type": "code",
   "execution_count": 5,
   "metadata": {},
   "outputs": [],
   "source": [
    "def ExAC_info(record):\n",
    "    chrom,pos,ref,alt = record.CHROM, record.POS, record.REF, record.ALT\n",
    "    tmp = (0,0,0,0,0,\"NA\",\"NA\")\n",
    "    \n",
    "    if len(ref)==1 and len(alt)==1:\n",
    "        exac_url = \"http://exac.hms.harvard.edu/rest/variant/variant/\"+chrom+'-'+str(pos)+'-'+ref+'-'+str(alt[0])\n",
    "        exac_response = requests.get(exac_url)\n",
    "        \n",
    "        if (exac_response.status_code == 200) :\n",
    "            exac_response_json = exac_response.json()\n",
    "    \n",
    "            allele_count = exac_response_json[\"allele_count\"]\n",
    "            allele_num = exac_response_json[\"allele_num\"]\n",
    "            allele_freq = exac_response_json[\"allele_freq\"]\n",
    "            num_homozygotes = exac_response_json[\"hom_count\"]\n",
    "            site_quality = exac_response_json[\"site_quality\"]\n",
    "            outFilter = exac_response_json[\"filter\"]\n",
    "    \n",
    "            major_consequence={}\n",
    "            vep_ann = exac_response_json[\"vep_annotations\"]   \n",
    "            for vep in vep_ann:\n",
    "                major_consequence[vep[\"HGVSc\"]]=vep[\"major_consequence\"]\n",
    "            \n",
    "            tmp = (allele_count,allele_num,allele_freq,num_homozygotes,site_quality,str(outFilter),str(json.dumps(major_consequence))[1:-1])\n",
    "        else:\n",
    "            raise ValueError(\"ERROR: ExAC response status_code should be 200, but it is \"+exac_response.status_code+\" !\")\n",
    "        \n",
    "    return(tmp)\n",
    "    "
   ]
  },
  {
   "cell_type": "code",
   "execution_count": 6,
   "metadata": {},
   "outputs": [],
   "source": [
    "def main(vcf_file):\n",
    "    \n",
    "    vcf_reader = vcf.Reader(open(vcf_file,'r'))\n",
    "    #snv_dtype = [('chromosome','S50'),('position',int),('reference','S50'),('variant','S50'),\n",
    "    #             ('var_type','S50'),('var_infotype','S50'),('var_subtype','S50'),\n",
    "    #             ('var_count','S50'),('read_depth',int),('var%|ref%','S50'),\n",
    "    #             ('var_effect','S50'),\n",
    "    #             ('ExAC_allele_count',int),('ExAC_allele_num',int),('ExAC_allele_freq',float),\n",
    "    #             ('ExAC_homozygotes_num',int),('ExAC_site_quality',float),\n",
    "    #             ('ExAC_filter','S50'),('ExAC_HGVSc:major_consequence','S50')]\n",
    "    \n",
    "    #snv_df = np.empty([0,18],dtype=snv_dtype)\n",
    "    f = open(\"./vcf-parse-challenge-output.txt\",\"w+\")\n",
    "    f.write('chromosome'+'\\t'+'position'+'\\t'+'reference'+'\\t'+'variant'+'\\t'+'var_type'+'\\t'+'var_infotype'+'\\t'+\n",
    "            'var_subtype'+'\\t'+'var_count'+'\\t'+'read_depth'+'\\t'+'var%|ref%'+'\\t'+'var_effect'+'\\t'+\n",
    "            'ExAC_allele_count'+'\\t'+'ExAC_allele_num'+'\\t'+'ExAC_allele_freq'+'\\t'+'ExAC_homozygotes_num'+'\\t'+\n",
    "            'ExAC_site_quality'+'\\t'+'ExAC_filter'+'\\t'+'ExAC_HGVSc:major_consequence'+'\\n')\n",
    "    \n",
    "    for record in vcf_reader:\n",
    "        try:\n",
    "            #if record.var_type == 'indel' and record.var_subtype == 'unknown' :  \n",
    "            #if record.var_type == 'snp':\n",
    "                vcf_out = parse_vcf_record(record)\n",
    "                eff_out = variant_effect(record)\n",
    "                try:\n",
    "                    ExAC_out = ExAC_info(record)\n",
    "                except KeyError:\n",
    "                    ExAC_out = (0,0,0,0,0,\"NA\",\"NA\")\n",
    "                #snv_df = np.append(snv_df,np.array(vcf_out+eff_out+ExAC_out, dtype=snv_dtype))\n",
    "                out_line = vcf_out+eff_out+ExAC_out\n",
    "                f.write('\\t'.join(str(i) for i in out_line)+'\\n')\n",
    "        except KeyError:\n",
    "            print('WARNING: missing count field(s) in record %s:%d' % (record.CHROM, record.POS))\n",
    "\n",
    "    f.close()\n",
    "    #return pd.DataFrame(snv_df) \n",
    "    return()"
   ]
  },
  {
   "cell_type": "code",
   "execution_count": null,
   "metadata": {},
   "outputs": [
    {
     "name": "stdout",
     "output_type": "stream",
     "text": [
      "WARNING: missing count field(s) in record 1:935222\n",
      "WARNING: missing count field(s) in record 1:1277533\n",
      "WARNING: missing count field(s) in record 1:1577180\n",
      "WARNING: missing count field(s) in record 1:1647778\n",
      "WARNING: missing count field(s) in record 1:1647871\n",
      "WARNING: missing count field(s) in record 1:1650787\n",
      "WARNING: missing count field(s) in record 1:1653028\n",
      "WARNING: missing count field(s) in record 1:3329384\n",
      "WARNING: missing count field(s) in record 1:6184092\n",
      "WARNING: missing count field(s) in record 1:6475686\n",
      "WARNING: missing count field(s) in record 1:6947717\n",
      "WARNING: missing count field(s) in record 1:11181327\n",
      "WARNING: missing count field(s) in record 1:11187893\n",
      "WARNING: missing count field(s) in record 1:11190646\n",
      "WARNING: missing count field(s) in record 1:11288758\n",
      "WARNING: missing count field(s) in record 1:11919271\n",
      "WARNING: missing count field(s) in record 1:14107209\n",
      "WARNING: missing count field(s) in record 1:16464673\n",
      "WARNING: missing count field(s) in record 1:16474995\n",
      "WARNING: missing count field(s) in record 1:22388891\n",
      "WARNING: missing count field(s) in record 1:22459170\n",
      "WARNING: missing count field(s) in record 1:22923789\n",
      "WARNING: missing count field(s) in record 1:22927326\n",
      "WARNING: missing count field(s) in record 1:23399932\n",
      "WARNING: missing count field(s) in record 1:24485518\n",
      "WARNING: missing count field(s) in record 1:24513768\n",
      "WARNING: missing count field(s) in record 1:27089757\n",
      "WARNING: missing count field(s) in record 1:27688633\n",
      "WARNING: missing count field(s) in record 1:36937059\n",
      "WARNING: missing count field(s) in record 1:36937065\n",
      "WARNING: missing count field(s) in record 1:43779564\n",
      "WARNING: missing count field(s) in record 1:44403489\n",
      "WARNING: missing count field(s) in record 1:46476587\n",
      "WARNING: missing count field(s) in record 1:46498353\n",
      "WARNING: missing count field(s) in record 1:47685575\n",
      "WARNING: missing count field(s) in record 1:47799639\n",
      "WARNING: missing count field(s) in record 1:54060016\n",
      "WARNING: missing count field(s) in record 1:55505651\n"
     ]
    }
   ],
   "source": [
    "main('./Challenge_data.vcf')"
   ]
  },
  {
   "cell_type": "code",
   "execution_count": null,
   "metadata": {},
   "outputs": [],
   "source": [
    "output = main('./Challenge_data.vcf')\n",
    "print(output.iloc[0:10,:])\n",
    "f= open(\"./vcf-parse-challenge-output.txt\",\"w+\")\n",
    "f.write(output)\n",
    "f.close()"
   ]
  }
 ],
 "metadata": {
  "kernelspec": {
   "display_name": "Python 2",
   "language": "python",
   "name": "python2"
  },
  "language_info": {
   "codemirror_mode": {
    "name": "ipython",
    "version": 2
   },
   "file_extension": ".py",
   "mimetype": "text/x-python",
   "name": "python",
   "nbconvert_exporter": "python",
   "pygments_lexer": "ipython2",
   "version": "2.7.12"
  }
 },
 "nbformat": 4,
 "nbformat_minor": 2
}
